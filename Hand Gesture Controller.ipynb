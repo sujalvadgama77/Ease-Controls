{
 "cells": [
  {
   "cell_type": "code",
   "execution_count": 1,
   "id": "563f4cd0-edaf-4b3d-b3e0-1379100c6103",
   "metadata": {},
   "outputs": [
    {
     "name": "stdout",
     "output_type": "stream",
     "text": [
      "Requirement already satisfied: opencv-contrib-python in c:\\users\\mrvad\\anaconda3\\lib\\site-packages (4.9.0.80)\n",
      "Requirement already satisfied: numpy>=1.21.2 in c:\\users\\mrvad\\anaconda3\\lib\\site-packages (from opencv-contrib-python) (1.26.4)\n",
      "Note: you may need to restart the kernel to use updated packages.\n"
     ]
    }
   ],
   "source": [
    "pip install opencv-contrib-python"
   ]
  },
  {
   "cell_type": "code",
   "execution_count": 2,
   "id": "4b152c92-73ef-4b41-8574-46cd27d09ffe",
   "metadata": {},
   "outputs": [
    {
     "name": "stdout",
     "output_type": "stream",
     "text": [
      "Requirement already satisfied: cvzone in c:\\users\\mrvad\\anaconda3\\lib\\site-packages (1.6.1)\n",
      "Requirement already satisfied: opencv-python in c:\\users\\mrvad\\anaconda3\\lib\\site-packages (from cvzone) (4.9.0.80)\n",
      "Requirement already satisfied: numpy in c:\\users\\mrvad\\anaconda3\\lib\\site-packages (from cvzone) (1.26.4)\n",
      "Note: you may need to restart the kernel to use updated packages.\n"
     ]
    }
   ],
   "source": [
    "pip install cvzone"
   ]
  },
  {
   "cell_type": "code",
   "execution_count": 3,
   "id": "359d4686-7c11-4b34-aa43-f9074df5b5c4",
   "metadata": {},
   "outputs": [
    {
     "name": "stdout",
     "output_type": "stream",
     "text": [
      "Requirement already satisfied: mediapipe in c:\\users\\mrvad\\anaconda3\\lib\\site-packages (0.10.14)\n",
      "Requirement already satisfied: absl-py in c:\\users\\mrvad\\anaconda3\\lib\\site-packages (from mediapipe) (2.1.0)\n",
      "Requirement already satisfied: attrs>=19.1.0 in c:\\users\\mrvad\\anaconda3\\lib\\site-packages (from mediapipe) (23.1.0)\n",
      "Requirement already satisfied: flatbuffers>=2.0 in c:\\users\\mrvad\\anaconda3\\lib\\site-packages (from mediapipe) (24.3.25)\n",
      "Requirement already satisfied: jax in c:\\users\\mrvad\\anaconda3\\lib\\site-packages (from mediapipe) (0.4.28)\n",
      "Requirement already satisfied: jaxlib in c:\\users\\mrvad\\anaconda3\\lib\\site-packages (from mediapipe) (0.4.28)\n",
      "Requirement already satisfied: matplotlib in c:\\users\\mrvad\\anaconda3\\lib\\site-packages (from mediapipe) (3.8.0)\n",
      "Requirement already satisfied: numpy in c:\\users\\mrvad\\anaconda3\\lib\\site-packages (from mediapipe) (1.26.4)\n",
      "Requirement already satisfied: opencv-contrib-python in c:\\users\\mrvad\\anaconda3\\lib\\site-packages (from mediapipe) (4.9.0.80)\n",
      "Requirement already satisfied: protobuf<5,>=4.25.3 in c:\\users\\mrvad\\anaconda3\\lib\\site-packages (from mediapipe) (4.25.3)\n",
      "Requirement already satisfied: sounddevice>=0.4.4 in c:\\users\\mrvad\\anaconda3\\lib\\site-packages (from mediapipe) (0.4.7)\n",
      "Requirement already satisfied: CFFI>=1.0 in c:\\users\\mrvad\\anaconda3\\lib\\site-packages (from sounddevice>=0.4.4->mediapipe) (1.16.0)\n",
      "Requirement already satisfied: ml-dtypes>=0.2.0 in c:\\users\\mrvad\\anaconda3\\lib\\site-packages (from jax->mediapipe) (0.3.2)\n",
      "Requirement already satisfied: opt-einsum in c:\\users\\mrvad\\anaconda3\\lib\\site-packages (from jax->mediapipe) (3.3.0)\n",
      "Requirement already satisfied: scipy>=1.9 in c:\\users\\mrvad\\anaconda3\\lib\\site-packages (from jax->mediapipe) (1.11.4)\n",
      "Requirement already satisfied: contourpy>=1.0.1 in c:\\users\\mrvad\\anaconda3\\lib\\site-packages (from matplotlib->mediapipe) (1.2.0)\n",
      "Requirement already satisfied: cycler>=0.10 in c:\\users\\mrvad\\anaconda3\\lib\\site-packages (from matplotlib->mediapipe) (0.11.0)\n",
      "Requirement already satisfied: fonttools>=4.22.0 in c:\\users\\mrvad\\anaconda3\\lib\\site-packages (from matplotlib->mediapipe) (4.25.0)\n",
      "Requirement already satisfied: kiwisolver>=1.0.1 in c:\\users\\mrvad\\anaconda3\\lib\\site-packages (from matplotlib->mediapipe) (1.4.4)\n",
      "Requirement already satisfied: packaging>=20.0 in c:\\users\\mrvad\\anaconda3\\lib\\site-packages (from matplotlib->mediapipe) (23.1)\n",
      "Requirement already satisfied: pillow>=6.2.0 in c:\\users\\mrvad\\anaconda3\\lib\\site-packages (from matplotlib->mediapipe) (10.2.0)\n",
      "Requirement already satisfied: pyparsing>=2.3.1 in c:\\users\\mrvad\\anaconda3\\lib\\site-packages (from matplotlib->mediapipe) (3.0.9)\n",
      "Requirement already satisfied: python-dateutil>=2.7 in c:\\users\\mrvad\\anaconda3\\lib\\site-packages (from matplotlib->mediapipe) (2.8.2)\n",
      "Requirement already satisfied: pycparser in c:\\users\\mrvad\\anaconda3\\lib\\site-packages (from CFFI>=1.0->sounddevice>=0.4.4->mediapipe) (2.21)\n",
      "Requirement already satisfied: six>=1.5 in c:\\users\\mrvad\\anaconda3\\lib\\site-packages (from python-dateutil>=2.7->matplotlib->mediapipe) (1.16.0)\n",
      "Note: you may need to restart the kernel to use updated packages.\n"
     ]
    }
   ],
   "source": [
    "pip install mediapipe"
   ]
  },
  {
   "cell_type": "code",
   "execution_count": 4,
   "id": "c55730d5-4034-4008-b1a0-7a5777cb54bb",
   "metadata": {},
   "outputs": [
    {
     "name": "stdout",
     "output_type": "stream",
     "text": [
      "Requirement already satisfied: mouse in c:\\users\\mrvad\\anaconda3\\lib\\site-packages (0.7.1)Note: you may need to restart the kernel to use updated packages.\n",
      "\n"
     ]
    }
   ],
   "source": [
    "pip install mouse"
   ]
  },
  {
   "cell_type": "code",
   "execution_count": 5,
   "id": "4d6d054d-651d-457d-b022-1df3f98efcff",
   "metadata": {},
   "outputs": [
    {
     "name": "stdout",
     "output_type": "stream",
     "text": [
      "(976, 862)\n"
     ]
    }
   ],
   "source": [
    "import mouse \n",
    "\n",
    "print(mouse.get_position())"
   ]
  },
  {
   "cell_type": "code",
   "execution_count": null,
   "id": "2c0ea716-7967-4f04-a932-de86e99c02fb",
   "metadata": {},
   "outputs": [
    {
     "name": "stderr",
     "output_type": "stream",
     "text": [
      "C:\\Users\\mrvad\\anaconda3\\Lib\\site-packages\\google\\protobuf\\symbol_database.py:55: UserWarning: SymbolDatabase.GetPrototype() is deprecated. Please use message_factory.GetMessageClass() instead. SymbolDatabase.GetPrototype() will be removed soon.\n",
      "  warnings.warn('SymbolDatabase.GetPrototype() is deprecated. Please '\n"
     ]
    }
   ],
   "source": [
    "import cv2\n",
    "from cvzone.HandTrackingModule import HandDetector\n",
    "import mouse\n",
    "import numpy as np\n",
    "import threading\n",
    "import time\n",
    "\n",
    "detector = HandDetector(detectionCon = 0.9, maxHands = 1)\n",
    "\n",
    "\n",
    "cap = cv2.VideoCapture(0)\n",
    "cam_w,cam_h = 640, 480\n",
    "cap.set(3, cam_w) \n",
    "cap.set(4, cam_h)\n",
    "\n",
    "frameR = 100\n",
    "l_delay = 0\n",
    "r_delay = 0\n",
    "d_delay = 0\n",
    "\n",
    "def l_clk_delay():\n",
    "    global l_delay\n",
    "    global l_clk_thread\n",
    "    time.sleep(1)\n",
    "    l_delay = 0\n",
    "    l_clk_thread = threading.Thread(target = l_clk_delay)\n",
    "\n",
    "l_clk_thread = threading.Thread(target = l_clk_delay)\n",
    "\n",
    "def r_clk_delay():\n",
    "    global r_delay\n",
    "    global r_clk_thread\n",
    "    time.sleep(1)\n",
    "    r_delay = 0\n",
    "    r_clk_thread = threading.Thread(target = r_clk_delay)\n",
    "\n",
    "r_clk_thread = threading.Thread(target = r_clk_delay)\n",
    "\n",
    "def d_clk_delay():\n",
    "    global d_delay\n",
    "    global d_clk_thread\n",
    "    time.sleep(2)\n",
    "    d_delay = 0\n",
    "    d_clk_thread = threading.Thread(target = d_clk_delay)\n",
    "\n",
    "d_clk_thread = threading.Thread(target = d_clk_delay)\n",
    "\n",
    "\n",
    "while True:\n",
    "    success, img = cap.read()\n",
    "    img = cv2.flip(img, 1)\n",
    "\n",
    "    hands, img = detector.findHands(img, flipType = False)\n",
    "    cv2.rectangle(img, (frameR, frameR), (cam_w - frameR, cam_h - frameR), (255, 0, 255), 2)\n",
    "    \n",
    "    if hands:\n",
    "        lmlist = hands[0]['lmList']\n",
    "        \n",
    "        ind_x, ind_y = lmlist[8][0], lmlist[8][1]\n",
    "        mid_x, mid_y = lmlist[12][0], lmlist[12][1]\n",
    "        \n",
    "        cv2.circle(img, (ind_x, ind_y), 5, (0, 255, 255), 2)\n",
    "\n",
    "        fingers = detector.fingersUp(hands[0]) # get 1 for open finger and 0 for close finger (for thumb it is opposite)\n",
    "        \n",
    "        # mouse movement for only first finger open then functionality work\n",
    "        if fingers[1] == 1 and fingers[2] == 0 and fingers[0] == 1:\n",
    "            conv_x = int(np.interp(ind_x, (frameR, cam_w - frameR), (0, 1536))) # x coordinate of index finger\n",
    "            conv_y = int(np.interp(ind_y, (frameR, cam_h - frameR), (0, 864))) # y coordinate of index finger\n",
    "    \n",
    "            mouse.move(conv_x, conv_y)\n",
    "    \n",
    "        # mouse button clicks\n",
    "        if fingers[1] == 1 and fingers[2] == 1 and fingers[0] == 1:\n",
    "            if abs(ind_x - mid_x) < 25:\n",
    "                # left click\n",
    "                if fingers[4] == 0 and l_delay == 0: # delay because handle multiple click continously\n",
    "                    mouse.click(button = \"left\")\n",
    "                    l_delay = 1\n",
    "                    l_clk_thread.start()\n",
    "\n",
    "                # right click\n",
    "                if fingers[4] == 1 and r_delay == 0: # delay because handle multiple click continously\n",
    "                    mouse.click(button = \"right\")\n",
    "                    r_delay = 1\n",
    "                    r_clk_thread.start()\n",
    "\n",
    "        # mouse scrolling\n",
    "        if fingers[1] == 1 and fingers[2] == 1 and fingers[0] == 0 and fingers[4] == 0:\n",
    "            if abs(ind_x - mid_x) < 25:\n",
    "                mouse.wheel(delta = -1)\n",
    "\n",
    "        if fingers[1] == 1 and fingers[2] == 1 and fingers[0] == 0 and fingers[4] == 1:\n",
    "            if abs(ind_x - mid_x) < 25:\n",
    "                mouse.wheel(delta = 1)\n",
    "\n",
    "        if fingers[1] == 1 and fingers[2] == 0 and fingers[0] == 0 and fingers[4] == 0:\n",
    "            if d_delay == 0:\n",
    "                mouse.double_click(button = \"left\")\n",
    "                d_delay = 1\n",
    "                d_clk_thread.start()\n",
    "\n",
    "    cv2.imshow(\"Camera Feed\", img)\n",
    "    if cv2.waitKey(1) & 0xFF==ord('q'):\n",
    "        break\n",
    "\n",
    "cap.release()\n",
    "cv2.destroyAllWindows()"
   ]
  },
  {
   "cell_type": "code",
   "execution_count": null,
   "id": "d0d55ed9-f99c-4f44-893b-a43b0914dab8",
   "metadata": {},
   "outputs": [],
   "source": []
  },
  {
   "cell_type": "code",
   "execution_count": null,
   "id": "1805c3da-e4cc-40aa-a284-047380f13869",
   "metadata": {},
   "outputs": [],
   "source": []
  },
  {
   "cell_type": "code",
   "execution_count": null,
   "id": "e8892d4a-3e5e-436c-9670-79b567741510",
   "metadata": {},
   "outputs": [],
   "source": []
  }
 ],
 "metadata": {
  "kernelspec": {
   "display_name": "Python 3 (ipykernel)",
   "language": "python",
   "name": "python3"
  },
  "language_info": {
   "codemirror_mode": {
    "name": "ipython",
    "version": 3
   },
   "file_extension": ".py",
   "mimetype": "text/x-python",
   "name": "python",
   "nbconvert_exporter": "python",
   "pygments_lexer": "ipython3",
   "version": "3.11.7"
  }
 },
 "nbformat": 4,
 "nbformat_minor": 5
}
